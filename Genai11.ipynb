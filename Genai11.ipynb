{
  "nbformat": 4,
  "nbformat_minor": 0,
  "metadata": {
    "colab": {
      "provenance": [],
      "include_colab_link": true
    },
    "kernelspec": {
      "name": "python3",
      "display_name": "Python 3"
    },
    "language_info": {
      "name": "python"
    }
  },
  "cells": [
    {
      "cell_type": "markdown",
      "metadata": {
        "id": "view-in-github",
        "colab_type": "text"
      },
      "source": [
        "<a href=\"https://colab.research.google.com/github/shanajdudekula/GEN-AI/blob/main/Genai11.ipynb\" target=\"_parent\"><img src=\"https://colab.research.google.com/assets/colab-badge.svg\" alt=\"Open In Colab\"/></a>"
      ]
    },
    {
      "cell_type": "code",
      "execution_count": null,
      "metadata": {
        "colab": {
          "base_uri": "https://localhost:8080/"
        },
        "id": "3n_0i4L9MV0D",
        "outputId": "3acc978f-4aa0-4c44-a732-17c96b5833b2"
      },
      "outputs": [
        {
          "output_type": "stream",
          "name": "stdout",
          "text": [
            "Requirement already satisfied: fastapi in /usr/local/lib/python3.12/dist-packages (0.118.0)\n",
            "Requirement already satisfied: uvicorn in /usr/local/lib/python3.12/dist-packages (0.37.0)\n",
            "Collecting pyngrok\n",
            "  Downloading pyngrok-7.4.0-py3-none-any.whl.metadata (8.1 kB)\n",
            "Requirement already satisfied: nest_asyncio in /usr/local/lib/python3.12/dist-packages (1.6.0)\n",
            "Requirement already satisfied: starlette<0.49.0,>=0.40.0 in /usr/local/lib/python3.12/dist-packages (from fastapi) (0.48.0)\n",
            "Requirement already satisfied: pydantic!=1.8,!=1.8.1,!=2.0.0,!=2.0.1,!=2.1.0,<3.0.0,>=1.7.4 in /usr/local/lib/python3.12/dist-packages (from fastapi) (2.11.9)\n",
            "Requirement already satisfied: typing-extensions>=4.8.0 in /usr/local/lib/python3.12/dist-packages (from fastapi) (4.15.0)\n",
            "Requirement already satisfied: click>=7.0 in /usr/local/lib/python3.12/dist-packages (from uvicorn) (8.3.0)\n",
            "Requirement already satisfied: h11>=0.8 in /usr/local/lib/python3.12/dist-packages (from uvicorn) (0.16.0)\n",
            "Requirement already satisfied: PyYAML>=5.1 in /usr/local/lib/python3.12/dist-packages (from pyngrok) (6.0.3)\n",
            "Requirement already satisfied: annotated-types>=0.6.0 in /usr/local/lib/python3.12/dist-packages (from pydantic!=1.8,!=1.8.1,!=2.0.0,!=2.0.1,!=2.1.0,<3.0.0,>=1.7.4->fastapi) (0.7.0)\n",
            "Requirement already satisfied: pydantic-core==2.33.2 in /usr/local/lib/python3.12/dist-packages (from pydantic!=1.8,!=1.8.1,!=2.0.0,!=2.0.1,!=2.1.0,<3.0.0,>=1.7.4->fastapi) (2.33.2)\n",
            "Requirement already satisfied: typing-inspection>=0.4.0 in /usr/local/lib/python3.12/dist-packages (from pydantic!=1.8,!=1.8.1,!=2.0.0,!=2.0.1,!=2.1.0,<3.0.0,>=1.7.4->fastapi) (0.4.2)\n",
            "Requirement already satisfied: anyio<5,>=3.6.2 in /usr/local/lib/python3.12/dist-packages (from starlette<0.49.0,>=0.40.0->fastapi) (4.11.0)\n",
            "Requirement already satisfied: idna>=2.8 in /usr/local/lib/python3.12/dist-packages (from anyio<5,>=3.6.2->starlette<0.49.0,>=0.40.0->fastapi) (3.10)\n",
            "Requirement already satisfied: sniffio>=1.1 in /usr/local/lib/python3.12/dist-packages (from anyio<5,>=3.6.2->starlette<0.49.0,>=0.40.0->fastapi) (1.3.1)\n",
            "Downloading pyngrok-7.4.0-py3-none-any.whl (25 kB)\n",
            "Installing collected packages: pyngrok\n",
            "Successfully installed pyngrok-7.4.0\n"
          ]
        }
      ],
      "source": [
        "!pip install fastapi uvicorn pyngrok nest_asyncio"
      ]
    },
    {
      "cell_type": "code",
      "source": [
        "!ngrok config add-authtoken 33gIBhr6wU4dYniiWVpjGBqdEbt_3ZdmNGK2V4Rswr8K3bAYm\n"
      ],
      "metadata": {
        "colab": {
          "base_uri": "https://localhost:8080/"
        },
        "id": "Q6ZZGwywRbBp",
        "outputId": "765e153f-5c18-4117-81a5-d7b960b13b41"
      },
      "execution_count": null,
      "outputs": [
        {
          "output_type": "stream",
          "name": "stdout",
          "text": [
            "Authtoken saved to configuration file: /root/.config/ngrok/ngrok.yml\n"
          ]
        }
      ]
    },
    {
      "cell_type": "code",
      "source": [
        "import nest_asyncio\n",
        "from pyngrok import ngrok\n",
        "from fastapi import FastAPI\n",
        "from pydantic import BaseModel\n",
        "from typing import List\n",
        "import uvicorn\n",
        "import asyncio\n"
      ],
      "metadata": {
        "id": "9zyyfMB1Mg-K"
      },
      "execution_count": null,
      "outputs": []
    },
    {
      "cell_type": "code",
      "source": [
        "!pip install fastapi uvicorn pyngrok nest_asyncio\n",
        "\n",
        "import nest_asyncio\n",
        "import uvicorn\n",
        "import asyncio\n",
        "from fastapi import FastAPI, HTTPException\n",
        "from pydantic import BaseModel\n",
        "from typing import List, Optional\n",
        "from pyngrok import ngrok\n",
        "from datetime import datetime\n",
        "import uuid\n",
        "\n",
        "# Allow nested event loops\n",
        "nest_asyncio.apply()\n",
        "\n",
        "# Configure ngrok with your authtoken\n",
        "NGROK_AUTHTOKEN = \"33gIBhr6wU4dYniiWVpjGBqdEbt_3ZdmNGK2V4Rswr8K3bAYm\"\n",
        "ngrok.set_auth_token(NGROK_AUTHTOKEN)\n",
        "print(\"✅ Ngrok authtoken configured successfully!\")\n",
        "\n",
        "# FastAPI app\n",
        "app = FastAPI(\n",
        "    title=\"Chat App\",\n",
        "    description=\"A simple real-time chat application\",\n",
        "    version=\"1.0.0\"\n",
        ")\n",
        "\n",
        "# Enhanced message storage\n",
        "chat_history = []\n",
        "\n",
        "class Message(BaseModel):\n",
        "    sender: str\n",
        "    text: str\n",
        "    message_id: Optional[str] = None\n",
        "    timestamp: Optional[str] = None\n",
        "\n",
        "@app.post(\"/chat\", response_model=dict)\n",
        "async def send_message(message: Message):\n",
        "    \"\"\"Send a new message to the chat\"\"\"\n",
        "    try:\n",
        "        # Add metadata\n",
        "        message_dict = message.dict()\n",
        "        message_dict[\"message_id\"] = str(uuid.uuid4())\n",
        "        message_dict[\"timestamp\"] = datetime.now().isoformat()\n",
        "\n",
        "        chat_history.append(message_dict)\n",
        "\n",
        "        # Keep only last 100 messages to prevent memory issues\n",
        "        if len(chat_history) > 100:\n",
        "            chat_history.pop(0)\n",
        "\n",
        "        return {\n",
        "            \"status\": \"Message received\",\n",
        "            \"message_id\": message_dict[\"message_id\"],\n",
        "            \"timestamp\": message_dict[\"timestamp\"]\n",
        "        }\n",
        "    except Exception as e:\n",
        "        raise HTTPException(status_code=500, detail=f\"Error sending message: {str(e)}\")\n",
        "\n",
        "@app.get(\"/history\", response_model=List[Message])\n",
        "async def get_history(limit: Optional[int] = None):\n",
        "    \"\"\"Get chat history with optional limit\"\"\"\n",
        "    try:\n",
        "        if limit and limit > 0:\n",
        "            return chat_history[-limit:]\n",
        "        return chat_history\n",
        "    except Exception as e:\n",
        "        raise HTTPException(status_code=500, detail=f\"Error retrieving history: {str(e)}\")\n",
        "\n",
        "@app.delete(\"/clear\")\n",
        "async def clear_history():\n",
        "    \"\"\"Clear all chat history\"\"\"\n",
        "    try:\n",
        "        chat_history.clear()\n",
        "        return {\"status\": \"Chat history cleared\"}\n",
        "    except Exception as e:\n",
        "        raise HTTPException(status_code=500, detail=f\"Error clearing history: {str(e)}\")\n",
        "\n",
        "@app.get(\"/\")\n",
        "async def root():\n",
        "    return {\n",
        "        \"message\": \"Chat API is running!\",\n",
        "        \"docs\": \"/docs\",\n",
        "        \"endpoints\": {\n",
        "            \"send_message\": \"POST /chat\",\n",
        "            \"get_history\": \"GET /history\",\n",
        "            \"clear_history\": \"DELETE /clear\"\n",
        "        }\n",
        "    }\n",
        "\n",
        "# Enhanced server setup\n",
        "try:\n",
        "    # Kill existing tunnels\n",
        "    ngrok.kill()\n",
        "\n",
        "    # Create tunnel with authenticated account\n",
        "    public_url = ngrok.connect(8000, proto=\"http\").public_url\n",
        "    print(f\"🚀 Public URL: {public_url}\")\n",
        "    print(f\"📚 Swagger Docs: {public_url}/docs\")\n",
        "    print(f\"🔗 Direct API: {public_url}/chat\")\n",
        "    print(\"\\n💡 Try these commands:\")\n",
        "    print(f'curl -X POST \"{public_url}/chat\" -H \"Content-Type: application/json\" -d \\'{{\"sender\": \"User1\", \"text\": \"Hello World!\"}}\\'')\n",
        "    print(f'curl \"{public_url}/history\"')\n",
        "    print(f'curl -X DELETE \"{public_url}/clear\"')\n",
        "\n",
        "except Exception as e:\n",
        "    print(f\"❌ Ngrok error: {e}\")\n",
        "    print(\"🔧 Trying to run without public URL...\")\n",
        "\n",
        "# Run FastAPI server\n",
        "try:\n",
        "    config = uvicorn.Config(\n",
        "        app=app,\n",
        "        host=\"0.0.0.0\",\n",
        "        port=8000,\n",
        "        log_level=\"info\",\n",
        "        access_log=True\n",
        "    )\n",
        "    server = uvicorn.Server(config)\n",
        "\n",
        "    print(\"✅ Server starting... Press Ctrl+C to stop\")\n",
        "    loop = asyncio.get_event_loop()\n",
        "    loop.create_task(server.serve())\n",
        "\n",
        "except Exception as e:\n",
        "    print(f\"❌ Server error: {e}\")"
      ],
      "metadata": {
        "colab": {
          "base_uri": "https://localhost:8080/"
        },
        "id": "McRGDCYRSfX5",
        "outputId": "088e6863-1c55-484a-df7c-d9c2f8fe0391"
      },
      "execution_count": null,
      "outputs": [
        {
          "output_type": "stream",
          "name": "stdout",
          "text": [
            "Requirement already satisfied: fastapi in /usr/local/lib/python3.12/dist-packages (0.118.0)\n",
            "Requirement already satisfied: uvicorn in /usr/local/lib/python3.12/dist-packages (0.37.0)\n",
            "Requirement already satisfied: pyngrok in /usr/local/lib/python3.12/dist-packages (7.4.0)\n",
            "Requirement already satisfied: nest_asyncio in /usr/local/lib/python3.12/dist-packages (1.6.0)\n",
            "Requirement already satisfied: starlette<0.49.0,>=0.40.0 in /usr/local/lib/python3.12/dist-packages (from fastapi) (0.48.0)\n",
            "Requirement already satisfied: pydantic!=1.8,!=1.8.1,!=2.0.0,!=2.0.1,!=2.1.0,<3.0.0,>=1.7.4 in /usr/local/lib/python3.12/dist-packages (from fastapi) (2.11.9)\n",
            "Requirement already satisfied: typing-extensions>=4.8.0 in /usr/local/lib/python3.12/dist-packages (from fastapi) (4.15.0)\n",
            "Requirement already satisfied: click>=7.0 in /usr/local/lib/python3.12/dist-packages (from uvicorn) (8.3.0)\n",
            "Requirement already satisfied: h11>=0.8 in /usr/local/lib/python3.12/dist-packages (from uvicorn) (0.16.0)\n",
            "Requirement already satisfied: PyYAML>=5.1 in /usr/local/lib/python3.12/dist-packages (from pyngrok) (6.0.3)\n",
            "Requirement already satisfied: annotated-types>=0.6.0 in /usr/local/lib/python3.12/dist-packages (from pydantic!=1.8,!=1.8.1,!=2.0.0,!=2.0.1,!=2.1.0,<3.0.0,>=1.7.4->fastapi) (0.7.0)\n",
            "Requirement already satisfied: pydantic-core==2.33.2 in /usr/local/lib/python3.12/dist-packages (from pydantic!=1.8,!=1.8.1,!=2.0.0,!=2.0.1,!=2.1.0,<3.0.0,>=1.7.4->fastapi) (2.33.2)\n",
            "Requirement already satisfied: typing-inspection>=0.4.0 in /usr/local/lib/python3.12/dist-packages (from pydantic!=1.8,!=1.8.1,!=2.0.0,!=2.0.1,!=2.1.0,<3.0.0,>=1.7.4->fastapi) (0.4.2)\n",
            "Requirement already satisfied: anyio<5,>=3.6.2 in /usr/local/lib/python3.12/dist-packages (from starlette<0.49.0,>=0.40.0->fastapi) (4.11.0)\n",
            "Requirement already satisfied: idna>=2.8 in /usr/local/lib/python3.12/dist-packages (from anyio<5,>=3.6.2->starlette<0.49.0,>=0.40.0->fastapi) (3.10)\n",
            "Requirement already satisfied: sniffio>=1.1 in /usr/local/lib/python3.12/dist-packages (from anyio<5,>=3.6.2->starlette<0.49.0,>=0.40.0->fastapi) (1.3.1)\n",
            "✅ Ngrok authtoken configured successfully!\n"
          ]
        },
        {
          "output_type": "stream",
          "name": "stderr",
          "text": [
            "WARNING:pyngrok.process.ngrok:t=2025-10-06T06:54:11+0000 lvl=warn msg=\"failed to start tunnel\" pg=/api/tunnels id=468d5e8a08ac2849 err=\"failed to start tunnel: Your account is requesting a dev domain that does not exist. Visit https://dashboard.ngrok.com/domains to request a dev domain.\\r\\n\\r\\nERR_NGROK_15013\\r\\n\"\n"
          ]
        },
        {
          "output_type": "stream",
          "name": "stdout",
          "text": [
            "❌ Ngrok error: ngrok client exception, API returned 502: {\"error_code\":103,\"status_code\":502,\"msg\":\"failed to start tunnel\",\"details\":{\"err\":\"failed to start tunnel: Your account is requesting a dev domain that does not exist. Visit https://dashboard.ngrok.com/domains to request a dev domain.\\r\\n\\r\\nERR_NGROK_15013\\r\\n\"}}\n",
            "\n",
            "🔧 Trying to run without public URL...\n",
            "✅ Server starting... Press Ctrl+C to stop\n"
          ]
        }
      ]
    },
    {
      "cell_type": "code",
      "source": [],
      "metadata": {
        "id": "NF1NkqPDTL6Z"
      },
      "execution_count": null,
      "outputs": []
    }
  ]
}